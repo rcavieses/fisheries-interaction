{
 "cells": [
  {
   "cell_type": "code",
   "execution_count": 1,
   "metadata": {},
   "outputs": [],
   "source": [
    "import numpy as np\n",
    "import pandas as pd\n",
    "import matplotlib as plt\n",
    "from pandas import read_csv\n",
    "import seaborn as sns\n",
    "import tqdm\n",
    "import glob"
   ]
  },
  {
   "cell_type": "code",
   "execution_count": 2,
   "metadata": {},
   "outputs": [],
   "source": [
    "df1=pd.read_csv('BDF.csv', header=0, index_col=0, low_memory = False)\n"
   ]
  },
  {
   "cell_type": "code",
   "execution_count": 3,
   "metadata": {},
   "outputs": [
    {
     "data": {
      "text/plain": [
       "array(['CD._CONSTITUCION', 'GUERRERO_NEGRO', 'SANTA_ROSALIA', 'LA_PAZ',\n",
       "       'SAN_CARLOS', 'BAHIA_TORTUGAS', 'LORETO',\n",
       "       'PUERTO_ADOLFO_LOPEZ_MATEOS', 'PUNTA_ABREOJOS', 'BAHIA_ASUNCION',\n",
       "       'CABO_SAN_LUCAS'], dtype=object)"
      ]
     },
     "execution_count": 3,
     "metadata": {},
     "output_type": "execute_result"
    }
   ],
   "source": [
    "df1.Oficina.unique()"
   ]
  },
  {
   "cell_type": "code",
   "execution_count": 4,
   "metadata": {
    "scrolled": true
   },
   "outputs": [
    {
     "name": "stderr",
     "output_type": "stream",
     "text": [
      "100%|██████████| 804091/804091 [01:21<00:00, 9869.36it/s] \n"
     ]
    }
   ],
   "source": [
    "df=['Zona']\n",
    "ZN= pd.DataFrame(np.zeros(len(df1)),columns=df)\n",
    "\n",
    "\n",
    "for i in tqdm.tqdm(range(0,len(df1))):\n",
    "    if df1.Oficina[i]=='LORETO' or df1.Oficina[i]== 'LA_PAZ' or df1.Oficina[i]== 'SANTA_ROSALIA' or df1.Oficina[i]=='CABOS_SAN_LUCAS':\n",
    "        nd1='zn1'\n",
    "        ZN.loc[i]=[nd1]\n",
    "                   \n",
    "    elif  df1.Oficina[i]=='PUERTO_ADOLFO_LOPEZ_MATEOS' or df1.Oficina[i]=='CD._CONSTITUCION'or df1.Oficina[i]=='SAN_CARLOS':\n",
    "        nd1='zn2'\n",
    "        ZN.loc[i]=[nd1]\n",
    "                   \n",
    "    elif df1.Oficina[i]=='BAHIA_TORTUGAS' or df1.Oficina[i]=='BAHIA_ASUNCION'or df1.Oficina[i]=='PUNTA_ABREOJOS':\n",
    "        nd1='zn3'\n",
    "        ZN.loc[i]=[nd1]\n",
    "                   \n",
    "    elif df1.Oficina[i]=='GUERRERO_NEGRO':\n",
    "        nd1='zn4'\n",
    "        ZN.loc[i]=[nd1]\n",
    "                   \n",
    "    else:\n",
    "        nd1='NaN'\n",
    "        ZN.loc[i]=[nd1]\n",
    "                  \n",
    "ZN.to_csv('ZN.csv')"
   ]
  },
  {
   "cell_type": "code",
   "execution_count": 17,
   "metadata": {},
   "outputs": [
    {
     "data": {
      "text/html": [
       "<div>\n",
       "<style scoped>\n",
       "    .dataframe tbody tr th:only-of-type {\n",
       "        vertical-align: middle;\n",
       "    }\n",
       "\n",
       "    .dataframe tbody tr th {\n",
       "        vertical-align: top;\n",
       "    }\n",
       "\n",
       "    .dataframe thead th {\n",
       "        text-align: right;\n",
       "    }\n",
       "</style>\n",
       "<table border=\"1\" class=\"dataframe\">\n",
       "  <thead>\n",
       "    <tr style=\"text-align: right;\">\n",
       "      <th></th>\n",
       "      <th>Zona</th>\n",
       "    </tr>\n",
       "  </thead>\n",
       "  <tbody>\n",
       "    <tr>\n",
       "      <th>0</th>\n",
       "      <td>zn2</td>\n",
       "    </tr>\n",
       "    <tr>\n",
       "      <th>1</th>\n",
       "      <td>zn2</td>\n",
       "    </tr>\n",
       "    <tr>\n",
       "      <th>2</th>\n",
       "      <td>zn2</td>\n",
       "    </tr>\n",
       "    <tr>\n",
       "      <th>3</th>\n",
       "      <td>zn2</td>\n",
       "    </tr>\n",
       "    <tr>\n",
       "      <th>4</th>\n",
       "      <td>zn2</td>\n",
       "    </tr>\n",
       "    <tr>\n",
       "      <th>...</th>\n",
       "      <td>...</td>\n",
       "    </tr>\n",
       "    <tr>\n",
       "      <th>804086</th>\n",
       "      <td>zn1</td>\n",
       "    </tr>\n",
       "    <tr>\n",
       "      <th>804087</th>\n",
       "      <td>zn1</td>\n",
       "    </tr>\n",
       "    <tr>\n",
       "      <th>804088</th>\n",
       "      <td>zn2</td>\n",
       "    </tr>\n",
       "    <tr>\n",
       "      <th>804089</th>\n",
       "      <td>zn1</td>\n",
       "    </tr>\n",
       "    <tr>\n",
       "      <th>804090</th>\n",
       "      <td>zn1</td>\n",
       "    </tr>\n",
       "  </tbody>\n",
       "</table>\n",
       "<p>804091 rows × 1 columns</p>\n",
       "</div>"
      ],
      "text/plain": [
       "       Zona\n",
       "0       zn2\n",
       "1       zn2\n",
       "2       zn2\n",
       "3       zn2\n",
       "4       zn2\n",
       "...     ...\n",
       "804086  zn1\n",
       "804087  zn1\n",
       "804088  zn2\n",
       "804089  zn1\n",
       "804090  zn1\n",
       "\n",
       "[804091 rows x 1 columns]"
      ]
     },
     "execution_count": 17,
     "metadata": {},
     "output_type": "execute_result"
    }
   ],
   "source": [
    "ZN"
   ]
  },
  {
   "cell_type": "code",
   "execution_count": 9,
   "metadata": {},
   "outputs": [],
   "source": [
    "df1['Zona'] = ZN"
   ]
  },
  {
   "cell_type": "code",
   "execution_count": 12,
   "metadata": {},
   "outputs": [],
   "source": [
    "df1.to_csv('BDF-zona.csv')"
   ]
  },
  {
   "cell_type": "code",
   "execution_count": 14,
   "metadata": {},
   "outputs": [
    {
     "data": {
      "text/plain": [
       "Index(['Entidad_federativa', 'Tipo_de_pesca', 'Year', 'Mes', 'Dia', 'Oficina',\n",
       "       'Latitud', 'Longitud', 'Folio', 'Duracion', 'Dias_Efectivos',\n",
       "       'Sitio_Desembarque_Clave', 'Sitio_Desembarque', 'Zona_Captura',\n",
       "       'Zona_Captura_Clave', 'Especie_Clave', 'Especie_nombre_general',\n",
       "       'Especie_nombre', 'Especie_nombre_cientifico', 'Presentacion', 'Class',\n",
       "       'Order', 'Family', 'Genus', 'Ganancia_total_Mxn', 'Peso_Kg',\n",
       "       'Precio_Mxn', 'Zona'],\n",
       "      dtype='object')"
      ]
     },
     "execution_count": 14,
     "metadata": {},
     "output_type": "execute_result"
    }
   ],
   "source": [
    "df1.columns"
   ]
  },
  {
   "cell_type": "markdown",
   "metadata": {},
   "source": [
    "## Listas de especies por pesquerías"
   ]
  },
  {
   "cell_type": "code",
   "execution_count": 15,
   "metadata": {},
   "outputs": [
    {
     "data": {
      "text/plain": [
       "Index(['Ano', 'Mes', 'Dia', 'Oficina', 'Sitio_Desembarque', 'Zo_Captura',\n",
       "       'Sp_gen', 'Sp_nom', 'Pesqueria', 'Sp', 'Peso', 'Precio', 'Valor'],\n",
       "      dtype='object')"
      ]
     },
     "execution_count": 15,
     "metadata": {},
     "output_type": "execute_result"
    }
   ],
   "source": [
    "dt = read_csv('BDGENERAL.csv', header=0, index_col=0, low_memory=False)\n",
    "dt.columns"
   ]
  },
  {
   "cell_type": "code",
   "execution_count": null,
   "metadata": {},
   "outputs": [],
   "source": [
    "set(dt.Sp_nom).intersection(df1.Especie_nombre)"
   ]
  },
  {
   "cell_type": "code",
   "execution_count": 39,
   "metadata": {},
   "outputs": [],
   "source": [
    "pesquerias = dt.Pesqueria.unique()"
   ]
  },
  {
   "cell_type": "code",
   "execution_count": 53,
   "metadata": {},
   "outputs": [],
   "source": [
    "pesquerias=pesquerias[:-1]"
   ]
  },
  {
   "cell_type": "code",
   "execution_count": 75,
   "metadata": {},
   "outputs": [],
   "source": [
    "lista = {}\n",
    "for i in range(0,len(pesquerias)):\n",
    "    lista.update({pesquerias[i]: list(dt.Sp_nom[dt.Pesqueria==pesquerias[i]].unique())})"
   ]
  },
  {
   "cell_type": "code",
   "execution_count": 100,
   "metadata": {},
   "outputs": [
    {
     "name": "stderr",
     "output_type": "stream",
     "text": [
      "100%|██████████| 804091/804091 [02:10<00:00, 6144.00it/s]\n"
     ]
    }
   ],
   "source": [
    "name=['Pesqueria']\n",
    "Pesqueria=pd.DataFrame(np.zeros(len(df1)),columns=name)\n",
    "\n",
    "for j in tqdm.tqdm(range(0,len(df1))):\n",
    "    for i in range(0,len(lista)):\n",
    "        if df1.Especie_nombre[j] in lista[pesquerias[i]]:\n",
    "            Pesqueria.loc[j]=pesquerias[i]\n"
   ]
  },
  {
   "cell_type": "code",
   "execution_count": 131,
   "metadata": {},
   "outputs": [],
   "source": [
    "df1['Pesqueria']=Pesqueria"
   ]
  },
  {
   "cell_type": "code",
   "execution_count": 138,
   "metadata": {},
   "outputs": [],
   "source": [
    "df1.to_csv('BDlista2018.csv')"
   ]
  },
  {
   "cell_type": "code",
   "execution_count": null,
   "metadata": {},
   "outputs": [],
   "source": []
  }
 ],
 "metadata": {
  "kernelspec": {
   "display_name": "Python 3",
   "language": "python",
   "name": "python3"
  },
  "language_info": {
   "codemirror_mode": {
    "name": "ipython",
    "version": 3
   },
   "file_extension": ".py",
   "mimetype": "text/x-python",
   "name": "python",
   "nbconvert_exporter": "python",
   "pygments_lexer": "ipython3",
   "version": "3.8.5"
  }
 },
 "nbformat": 4,
 "nbformat_minor": 4
}
