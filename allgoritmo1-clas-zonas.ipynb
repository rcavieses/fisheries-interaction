{
 "cells": [
  {
   "cell_type": "code",
   "execution_count": 1,
   "metadata": {
    "colab": {},
    "colab_type": "code",
    "id": "HxxUTygI_jXy"
   },
   "outputs": [],
   "source": [
    "##Se cargan los paquetes\n",
    "from pandas import DataFrame\n",
    "from pandas import concat\n",
    "from pandas import read_csv\n",
    "from datetime import datetime\n",
    "import matplotlib.pyplot as plt\n",
    "import pandas as pd\n",
    "import numpy as np\n",
    "import tqdm\n",
    "import time\n"
   ]
  },
  {
   "cell_type": "code",
   "execution_count": 2,
   "metadata": {
    "colab": {},
    "colab_type": "code",
    "id": "dJF3ufbz_jX2",
    "outputId": "be320137-47b9-4ae6-8231-cdbe539a8636"
   },
   "outputs": [],
   "source": [
    "#importacion de los datos\n",
    "dataset = read_csv('BDlista2018.csv', header=0, index_col=0, low_memory=False)"
   ]
  },
  {
   "cell_type": "code",
   "execution_count": 3,
   "metadata": {
    "colab": {},
    "colab_type": "code",
    "id": "yrfVG6LJ_jX_",
    "outputId": "821d75ce-72c4-4287-f132-b49d1dbf80b7"
   },
   "outputs": [
    {
     "name": "stdout",
     "output_type": "stream",
     "text": [
      "['Entidad_federativa', 'Tipo_de_pesca', 'Year', 'Mes', 'Dia', 'Oficina', 'Latitud', 'Longitud', 'Folio', 'Duracion', 'Dias_Efectivos', 'Sitio_Desembarque_Clave', 'Sitio_Desembarque', 'Zona_Captura', 'Zona_Captura_Clave', 'Especie_Clave', 'Especie_nombre_general', 'Especie_nombre', 'Especie_nombre_cientifico', 'Presentacion', 'Class', 'Order', 'Family', 'Genus', 'Ganancia_total_Mxn', 'Peso_Kg', 'Precio_Mxn', 'Zona', 'Pesqueria', 'Region']\n"
     ]
    }
   ],
   "source": [
    "#obtener los encabezados\n",
    "Encabezados=dataset.columns.values.tolist()\n",
    "print(Encabezados)\n"
   ]
  },
  {
   "cell_type": "markdown",
   "metadata": {
    "colab_type": "text",
    "id": "RCc8uM8d_jYH"
   },
   "source": [
    "### Se clasifica cada registro por las cuatro zonas que se manejan según su oficina de arribo. "
   ]
  },
  {
   "cell_type": "code",
   "execution_count": 4,
   "metadata": {
    "colab": {},
    "colab_type": "code",
    "id": "ASay5G11_jYH"
   },
   "outputs": [],
   "source": [
    "#obtener la lista de las oficinas que se tienen dentro de la base de datos\n",
    "Oficinas=dataset.Oficina.values.tolist()#  extrae la columna de oficinas como una lista\n",
    "a=pd.Series(Oficinas, dtype=\"category\") #combierte de lista a serie\n",
    "acat=a.cat.categories #extrae las categorías de la serie\n",
    "oficinas=pd.Series.tolist(acat) #convierte las categorias en una lista\n",
    "frecOficina=pd.value_counts(dataset['Oficina'])"
   ]
  },
  {
   "cell_type": "code",
   "execution_count": 5,
   "metadata": {
    "colab": {},
    "colab_type": "code",
    "id": "8PKAnAEE_jYM"
   },
   "outputs": [],
   "source": [
    "#Se obtiene la lista de las pesquerías \n",
    "Pesqueria=dataset.Pesqueria.values.tolist()\n",
    "c=pd.Series(Pesqueria,dtype=\"category\")\n",
    "acatp=c.cat.categories\n",
    "pesquerias=pd.Series.tolist(acatp)\n",
    "frecPesqueria=pd.value_counts(dataset['Pesqueria'])"
   ]
  },
  {
   "cell_type": "code",
   "execution_count": 6,
   "metadata": {
    "colab": {},
    "colab_type": "code",
    "id": "xEp3T7zh_jYQ"
   },
   "outputs": [],
   "source": [
    "#Se obtiene la lista de los años\n",
    "Anos=dataset.Year.values.tolist()\n",
    "c=pd.Series(Anos,dtype=\"category\")\n",
    "acaty=c.cat.categories\n",
    "años=pd.Series.tolist(acaty)\n",
    "frecAnos=pd.value_counts(dataset['Year'])"
   ]
  },
  {
   "cell_type": "code",
   "execution_count": 7,
   "metadata": {
    "colab": {},
    "colab_type": "code",
    "id": "5GrafR44_jYT"
   },
   "outputs": [],
   "source": [
    "#Se obtiene la lista de los meses\n",
    "Mes=dataset.Mes.values.tolist()\n",
    "c=pd.Series(Mes,dtype=\"category\")\n",
    "acatm=c.cat.categories\n",
    "meses=pd.Series.tolist(acatm)\n",
    "\n",
    "frecMes=pd.value_counts(dataset['Mes'])"
   ]
  },
  {
   "cell_type": "code",
   "execution_count": 8,
   "metadata": {
    "colab": {},
    "colab_type": "code",
    "id": "1ETpPSkf_jYY"
   },
   "outputs": [],
   "source": [
    "#Se crea una lista con los valores filtrados y sumados de las capturas para cada oficina, pesquería, mes y año.\n",
    "df=['Oficina','Pesqueria','año','mes','Peso_Kg','valor','Frecuencia'] #se definen los encabezados del arreglo\n",
    "df1=pd.DataFrame(columns=df) "
   ]
  },
  {
   "cell_type": "code",
   "execution_count": 9,
   "metadata": {
    "colab": {},
    "colab_type": "code",
    "id": "r2vIUI7D_jYc"
   },
   "outputs": [
    {
     "name": "stderr",
     "output_type": "stream",
     "text": [
      "100%|██████████| 11/11 [07:15<00:00, 39.55s/it]\n"
     ]
    }
   ],
   "source": [
    "contador=0\n",
    "for i in tqdm.tqdm(range(0,len(oficinas))):\n",
    "    V=dataset.Oficina==acat[i]\n",
    "    for j in range(0,len(pesquerias)):\n",
    "        VV=dataset.Pesqueria==acatp[j]\n",
    "        for k in range(0,len(años)):\n",
    "            VVV=dataset.Year==acaty[k]\n",
    "            for l in range(0,len(meses)):\n",
    "                VVVV=dataset.Mes==acatm[l]#genera lista donde ambos son verdaderos\n",
    "                M=V & VV & VVV & VVVV \n",
    "                B=sum(dataset.Peso_Kg[M==True])#muestra los registros que cumplen la condición anterior\n",
    "                C=sum(dataset.Ganancia_total_Mxn[M==True])#muestra la suma del valor para el año en esa oficina\n",
    "                fr=dataset.Peso_Kg[M==True].size\n",
    "                df1.loc[contador]=[acat[i],acatp[j],acaty[k],acatm[l],B,C,fr]\n",
    "                contador=contador+1"
   ]
  },
  {
   "cell_type": "code",
   "execution_count": 10,
   "metadata": {},
   "outputs": [],
   "source": [
    "df1.to_csv('bdmensualclasificada.csv')\n"
   ]
  },
  {
   "cell_type": "code",
   "execution_count": 11,
   "metadata": {
    "colab": {},
    "colab_type": "code",
    "id": "BzvZkzKt_jYh"
   },
   "outputs": [],
   "source": [
    "#Se crea una columna con las fechas en formato yyyy-mm-dd y se une al arreglo anterior\n",
    "dt=['DATE']\n",
    "dt=pd.DataFrame(columns=dt)\n",
    "contador=0\n",
    "for x in range(0,len(df1)):\n",
    "    z=int(df1.values[x,2:3])\n",
    "    zZ=int(df1.values[x,3:4])\n",
    "    zzz=datetime(z,zZ,1)\n",
    "    dt.loc[contador]=[zzz.strftime(\"%Y-%m-%d\")]\n",
    "    contador=contador+1\n",
    "\n",
    "df1 = df1.assign(Date=dt.values)\n"
   ]
  },
  {
   "cell_type": "code",
   "execution_count": 12,
   "metadata": {},
   "outputs": [
    {
     "data": {
      "text/plain": [
       "array(['BAHIA_ASUNCION', 'BAHIA_TORTUGAS', 'CABO_SAN_LUCAS',\n",
       "       'CD._CONSTITUCION', 'GUERRERO_NEGRO', 'LA_PAZ', 'LORETO',\n",
       "       'PUERTO_ADOLFO_LOPEZ_MATEOS', 'PUNTA_ABREOJOS', 'SANTA_ROSALIA',\n",
       "       'SAN_CARLOS'], dtype=object)"
      ]
     },
     "execution_count": 12,
     "metadata": {},
     "output_type": "execute_result"
    }
   ],
   "source": [
    "df3 = pd.DataFrame(df1)\n",
    "df3.Oficina.unique()"
   ]
  },
  {
   "cell_type": "code",
   "execution_count": 13,
   "metadata": {
    "colab": {},
    "colab_type": "code",
    "id": "wQnBZ01D_jYk"
   },
   "outputs": [],
   "source": [
    "df=['Zona']\n",
    "ZNc=[]\n",
    "ZN=pd.DataFrame(ZNc,columns=df)\n",
    "\n",
    "i=0\n",
    "\n",
    "for i in range(0,len(df1)):\n",
    "                if df1.Oficina[i]=='LORETO' or df1.Oficina[i]== 'LA_PAZ' or df1.Oficina[i]== 'SANTA_ROSALIA' or df1.Oficina[i]=='CABO_SAN_LUCAS':\n",
    "                    nd1='zn1'\n",
    "                    ZN.loc[i]=[nd1]\n",
    "                    i=i+1\n",
    "                elif  df1.Oficina[i]=='PUERTO_ADOLFO_LOPEZ_MATEOS' or df1.Oficina[i]=='CD._CONSTITUCION'or df1.Oficina[i]=='SAN_CARLOS':\n",
    "                    nd1='zn2'\n",
    "                    ZN.loc[i]=[nd1]\n",
    "                    i=i+1\n",
    "                elif df1.Oficina[i]=='BAHIA_TORTUGAS' or df1.Oficina[i]=='BAHIA_ASUNCION'or df1.Oficina[i]=='PUNTA_ABREOJOS':\n",
    "                    nd1='zn3'\n",
    "                    ZN.loc[i]=[nd1]\n",
    "                    i=i+1\n",
    "                elif df1.Oficina[i]=='GUERRERO_NEGRO':\n",
    "                    nd1='zn4'\n",
    "                    ZN.loc[i]=[nd1]\n",
    "                    i=i+1\n",
    "                else:\n",
    "                    nd1='NaN'\n",
    "                    ZN.loc[i]=[nd1]\n",
    "                    i=i+1\n"
   ]
  },
  {
   "cell_type": "code",
   "execution_count": 20,
   "metadata": {
    "colab": {},
    "colab_type": "code",
    "id": "LIJosk01_jYq",
    "outputId": "ecddd5a4-d9ae-4f35-bec0-35b035a65ade"
   },
   "outputs": [
    {
     "data": {
      "text/plain": [
       "4.136845207818518"
      ]
     },
     "execution_count": 20,
     "metadata": {},
     "output_type": "execute_result"
    }
   ],
   "source": [
    "(len(ZN)/len(dataset))*100 #porcentaje de resumen de la bd "
   ]
  },
  {
   "cell_type": "code",
   "execution_count": 14,
   "metadata": {
    "colab": {},
    "colab_type": "code",
    "id": "KxgIqaCM_jYu"
   },
   "outputs": [],
   "source": [
    "df1 = df1.assign(Zona=ZN.values)\n"
   ]
  },
  {
   "cell_type": "code",
   "execution_count": 22,
   "metadata": {
    "colab": {},
    "colab_type": "code",
    "id": "og5CucM__jY0",
    "outputId": "84ea1b05-7028-46fa-b18f-49b18fa040bb"
   },
   "outputs": [
    {
     "data": {
      "text/html": [
       "<div>\n",
       "<style scoped>\n",
       "    .dataframe tbody tr th:only-of-type {\n",
       "        vertical-align: middle;\n",
       "    }\n",
       "\n",
       "    .dataframe tbody tr th {\n",
       "        vertical-align: top;\n",
       "    }\n",
       "\n",
       "    .dataframe thead th {\n",
       "        text-align: right;\n",
       "    }\n",
       "</style>\n",
       "<table border=\"1\" class=\"dataframe\">\n",
       "  <thead>\n",
       "    <tr style=\"text-align: right;\">\n",
       "      <th></th>\n",
       "      <th>Oficina</th>\n",
       "      <th>Pesqueria</th>\n",
       "      <th>year</th>\n",
       "      <th>mes</th>\n",
       "      <th>peso</th>\n",
       "      <th>valor</th>\n",
       "      <th>Frecuencia</th>\n",
       "      <th>Date</th>\n",
       "      <th>Zona</th>\n",
       "    </tr>\n",
       "  </thead>\n",
       "  <tbody>\n",
       "    <tr>\n",
       "      <th>0</th>\n",
       "      <td>BAHIA_ASUNCION</td>\n",
       "      <td>ABULON</td>\n",
       "      <td>2001</td>\n",
       "      <td>4</td>\n",
       "      <td>12219.0</td>\n",
       "      <td>1098095.5</td>\n",
       "      <td>10</td>\n",
       "      <td>2001-04-01</td>\n",
       "      <td>zn3</td>\n",
       "    </tr>\n",
       "    <tr>\n",
       "      <th>1</th>\n",
       "      <td>BAHIA_ASUNCION</td>\n",
       "      <td>ABULON</td>\n",
       "      <td>2001</td>\n",
       "      <td>8</td>\n",
       "      <td>0.0</td>\n",
       "      <td>0.0</td>\n",
       "      <td>0</td>\n",
       "      <td>2001-08-01</td>\n",
       "      <td>zn3</td>\n",
       "    </tr>\n",
       "    <tr>\n",
       "      <th>2</th>\n",
       "      <td>BAHIA_ASUNCION</td>\n",
       "      <td>ABULON</td>\n",
       "      <td>2001</td>\n",
       "      <td>12</td>\n",
       "      <td>0.0</td>\n",
       "      <td>0.0</td>\n",
       "      <td>0</td>\n",
       "      <td>2001-12-01</td>\n",
       "      <td>zn3</td>\n",
       "    </tr>\n",
       "    <tr>\n",
       "      <th>3</th>\n",
       "      <td>BAHIA_ASUNCION</td>\n",
       "      <td>ABULON</td>\n",
       "      <td>2001</td>\n",
       "      <td>1</td>\n",
       "      <td>0.0</td>\n",
       "      <td>0.0</td>\n",
       "      <td>0</td>\n",
       "      <td>2001-01-01</td>\n",
       "      <td>zn3</td>\n",
       "    </tr>\n",
       "    <tr>\n",
       "      <th>4</th>\n",
       "      <td>BAHIA_ASUNCION</td>\n",
       "      <td>ABULON</td>\n",
       "      <td>2001</td>\n",
       "      <td>2</td>\n",
       "      <td>0.0</td>\n",
       "      <td>0.0</td>\n",
       "      <td>0</td>\n",
       "      <td>2001-02-01</td>\n",
       "      <td>zn3</td>\n",
       "    </tr>\n",
       "    <tr>\n",
       "      <th>...</th>\n",
       "      <td>...</td>\n",
       "      <td>...</td>\n",
       "      <td>...</td>\n",
       "      <td>...</td>\n",
       "      <td>...</td>\n",
       "      <td>...</td>\n",
       "      <td>...</td>\n",
       "      <td>...</td>\n",
       "      <td>...</td>\n",
       "    </tr>\n",
       "    <tr>\n",
       "      <th>33259</th>\n",
       "      <td>SAN_CARLOS</td>\n",
       "      <td>TUNIDOS</td>\n",
       "      <td>2018</td>\n",
       "      <td>3</td>\n",
       "      <td>0.0</td>\n",
       "      <td>0.0</td>\n",
       "      <td>0</td>\n",
       "      <td>2018-03-01</td>\n",
       "      <td>zn2</td>\n",
       "    </tr>\n",
       "    <tr>\n",
       "      <th>33260</th>\n",
       "      <td>SAN_CARLOS</td>\n",
       "      <td>TUNIDOS</td>\n",
       "      <td>2018</td>\n",
       "      <td>5</td>\n",
       "      <td>0.0</td>\n",
       "      <td>0.0</td>\n",
       "      <td>0</td>\n",
       "      <td>2018-05-01</td>\n",
       "      <td>zn2</td>\n",
       "    </tr>\n",
       "    <tr>\n",
       "      <th>33261</th>\n",
       "      <td>SAN_CARLOS</td>\n",
       "      <td>TUNIDOS</td>\n",
       "      <td>2018</td>\n",
       "      <td>11</td>\n",
       "      <td>0.0</td>\n",
       "      <td>0.0</td>\n",
       "      <td>0</td>\n",
       "      <td>2018-11-01</td>\n",
       "      <td>zn2</td>\n",
       "    </tr>\n",
       "    <tr>\n",
       "      <th>33262</th>\n",
       "      <td>SAN_CARLOS</td>\n",
       "      <td>TUNIDOS</td>\n",
       "      <td>2018</td>\n",
       "      <td>10</td>\n",
       "      <td>0.0</td>\n",
       "      <td>0.0</td>\n",
       "      <td>0</td>\n",
       "      <td>2018-10-01</td>\n",
       "      <td>zn2</td>\n",
       "    </tr>\n",
       "    <tr>\n",
       "      <th>33263</th>\n",
       "      <td>SAN_CARLOS</td>\n",
       "      <td>TUNIDOS</td>\n",
       "      <td>2018</td>\n",
       "      <td>9</td>\n",
       "      <td>0.0</td>\n",
       "      <td>0.0</td>\n",
       "      <td>0</td>\n",
       "      <td>2018-09-01</td>\n",
       "      <td>zn2</td>\n",
       "    </tr>\n",
       "  </tbody>\n",
       "</table>\n",
       "<p>33264 rows × 9 columns</p>\n",
       "</div>"
      ],
      "text/plain": [
       "              Oficina Pesqueria  year  mes     peso      valor  Frecuencia  \\\n",
       "0      BAHIA_ASUNCION    ABULON  2001    4  12219.0  1098095.5          10   \n",
       "1      BAHIA_ASUNCION    ABULON  2001    8      0.0        0.0           0   \n",
       "2      BAHIA_ASUNCION    ABULON  2001   12      0.0        0.0           0   \n",
       "3      BAHIA_ASUNCION    ABULON  2001    1      0.0        0.0           0   \n",
       "4      BAHIA_ASUNCION    ABULON  2001    2      0.0        0.0           0   \n",
       "...               ...       ...   ...  ...      ...        ...         ...   \n",
       "33259      SAN_CARLOS   TUNIDOS  2018    3      0.0        0.0           0   \n",
       "33260      SAN_CARLOS   TUNIDOS  2018    5      0.0        0.0           0   \n",
       "33261      SAN_CARLOS   TUNIDOS  2018   11      0.0        0.0           0   \n",
       "33262      SAN_CARLOS   TUNIDOS  2018   10      0.0        0.0           0   \n",
       "33263      SAN_CARLOS   TUNIDOS  2018    9      0.0        0.0           0   \n",
       "\n",
       "             Date Zona  \n",
       "0      2001-04-01  zn3  \n",
       "1      2001-08-01  zn3  \n",
       "2      2001-12-01  zn3  \n",
       "3      2001-01-01  zn3  \n",
       "4      2001-02-01  zn3  \n",
       "...           ...  ...  \n",
       "33259  2018-03-01  zn2  \n",
       "33260  2018-05-01  zn2  \n",
       "33261  2018-11-01  zn2  \n",
       "33262  2018-10-01  zn2  \n",
       "33263  2018-09-01  zn2  \n",
       "\n",
       "[33264 rows x 9 columns]"
      ]
     },
     "execution_count": 22,
     "metadata": {},
     "output_type": "execute_result"
    }
   ],
   "source": [
    "df1"
   ]
  },
  {
   "cell_type": "code",
   "execution_count": 15,
   "metadata": {
    "colab": {},
    "colab_type": "code",
    "id": "wEUQCQj5_jY6"
   },
   "outputs": [],
   "source": [
    "df1.to_csv('Base2018-2.csv')"
   ]
  },
  {
   "cell_type": "code",
   "execution_count": null,
   "metadata": {},
   "outputs": [],
   "source": []
  }
 ],
 "metadata": {
  "colab": {
   "name": "clasidicacion1_9.ipynb",
   "provenance": [],
   "version": "0.3.2"
  },
  "kernelspec": {
   "display_name": "Python 3",
   "language": "python",
   "name": "python3"
  },
  "language_info": {
   "codemirror_mode": {
    "name": "ipython",
    "version": 3
   },
   "file_extension": ".py",
   "mimetype": "text/x-python",
   "name": "python",
   "nbconvert_exporter": "python",
   "pygments_lexer": "ipython3",
   "version": "3.8.5"
  }
 },
 "nbformat": 4,
 "nbformat_minor": 4
}
